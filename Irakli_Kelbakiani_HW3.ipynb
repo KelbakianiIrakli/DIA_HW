{
 "cells": [
  {
   "cell_type": "code",
   "execution_count": 37,
   "id": "086679f2",
   "metadata": {},
   "outputs": [],
   "source": [
    "import numpy as np\n",
    "import pandas as pd \n",
    "import os\n",
    "import glob\n",
    "import time\n",
    "from PIL import Image\n",
    "from skimage.io import imread, imshow\n",
    "image_list_train=[]\n",
    "labels_train =[]\n"
   ]
  },
  {
   "cell_type": "code",
   "execution_count": 38,
   "id": "6ac22bc6",
   "metadata": {},
   "outputs": [],
   "source": [
    "#Iterate over training folder, import images as numpy arrays and create labels for them.\n",
    "dir = os.getcwd()\n",
    "for i in range(10):\n",
    "        for filename in glob.glob(dir + '/train/'+ str(i) + '/*.png'):\n",
    "            im=Image.open(filename)\n",
    "            data = np.asarray(im)\n",
    "            image_list_train.append(data)\n",
    "            labels_train.append(i)\n",
    "                 "
   ]
  },
  {
   "cell_type": "code",
   "execution_count": 40,
   "id": "766acb5c",
   "metadata": {},
   "outputs": [
    {
     "name": "stdout",
     "output_type": "stream",
     "text": [
      "10000\n"
     ]
    }
   ],
   "source": [
    "#Fetch data from test folder and put it in X_test and Y_test\n",
    "dir = os.getcwd()\n",
    "X_test = []\n",
    "Y_test = []\n",
    "for i in range(10):\n",
    "        for filename in glob.glob(dir + '/test/'+ str(i) + '/*.png'):\n",
    "            im=Image.open(filename)\n",
    "            data = np.asarray(im)\n",
    "            X_test.append(data)\n",
    "            Y_test.append(i)\n",
    "print(len(Y_test))"
   ]
  },
  {
   "cell_type": "code",
   "execution_count": 4,
   "id": "cc5dcbdb",
   "metadata": {},
   "outputs": [
    {
     "name": "stdout",
     "output_type": "stream",
     "text": [
      "48000\n"
     ]
    }
   ],
   "source": [
    "print(len(image_list_train))"
   ]
  },
  {
   "cell_type": "code",
   "execution_count": 12,
   "id": "fcc68159",
   "metadata": {},
   "outputs": [
    {
     "name": "stdout",
     "output_type": "stream",
     "text": [
      "[31642.826593400587, 15787.718907512104, 28008.009267893154, 26919.17814437559, 23799.464270633438, 26294.070196452532, 26821.549765595708, 22477.533497301258, 28114.40952059533, 18951.124848872965]\n"
     ]
    }
   ],
   "source": [
    "# calculate average pixel value for each digit, store it in mean_pixel_values (mean value for each digit is at corresponding value in list)\n",
    "mean_pixel_values = [0] * 10\n",
    "for i,k in enumerate(image_list_train):\n",
    "    sum_of_pixels = 0\n",
    "    for j,z in enumerate(k):\n",
    "        sum_of_pixels+= sum(z)\n",
    "\n",
    "    mean_pixel_values[labels_train[i]] = (mean_pixel_values[labels_train[i]] + sum_of_pixels/28*28)/2\n",
    "print(mean_pixel_values)"
   ]
  },
  {
   "cell_type": "code",
   "execution_count": 46,
   "id": "96253773",
   "metadata": {},
   "outputs": [
    {
     "name": "stdout",
     "output_type": "stream",
     "text": [
      "48000\n",
      "48000\n"
     ]
    }
   ],
   "source": [
    "X_train = image_list_train\n",
    "Y_train = labels_train\n",
    "print(len(X_train))\n",
    "print(len(Y_train))"
   ]
  },
  {
   "cell_type": "code",
   "execution_count": 14,
   "id": "5c206dcd",
   "metadata": {},
   "outputs": [
    {
     "name": "stdout",
     "output_type": "stream",
     "text": [
      "(28, 28)\n",
      "48000\n"
     ]
    },
    {
     "data": {
      "image/png": "[encoded data removed]",
      "text/plain": [
       "<Figure size 432x288 with 1 Axes>"
      ]
     },
     "metadata": {
      "needs_background": "light"
     },
     "output_type": "display_data"
    }
   ],
   "source": [
    "# Just check that data looks fine\n",
    "from skimage.io import imread, imshow\n",
    "print(image_list_train[0].shape)\n",
    "imshow(image_list_train[33000])\n",
    "print(len(image_list_train))"
   ]
  },
  {
   "cell_type": "code",
   "execution_count": null,
   "id": "fe71d76c",
   "metadata": {},
   "outputs": [],
   "source": []
  },
  {
   "cell_type": "code",
   "execution_count": 39,
   "id": "597e504e",
   "metadata": {},
   "outputs": [
    {
     "name": "stdout",
     "output_type": "stream",
     "text": [
      "10000\n"
     ]
    }
   ],
   "source": [
    "#Fetch data from test folder and put it in X_test and Y_test\n",
    "dir = os.getcwd()\n",
    "X_test = []\n",
    "Y_test = []\n",
    "for i in range(10):\n",
    "        for filename in glob.glob(dir + '/test/'+ str(i) + '/*.png'):\n",
    "            im=Image.open(filename)\n",
    "            data = np.asarray(im)\n",
    "            X_test.append(data)\n",
    "            Y_test.append(i)\n",
    "print(len(Y_test))"
   ]
  },
  {
   "cell_type": "code",
   "execution_count": 62,
   "id": "0c0f1f6d",
   "metadata": {},
   "outputs": [
    {
     "name": "stdout",
     "output_type": "stream",
     "text": [
      "Accuracy: 0.89\n"
     ]
    }
   ],
   "source": [
    "#Count accuracy with custom predictor\n",
    "import time\n",
    "\n",
    "def dist(x,y):\n",
    "    return np.sqrt(np.sum((x-y)**2))\n",
    "\n",
    "def custom_predictor_each_pixel_a_feature(X_train,X_test, Y_train):\n",
    "    l = len(X_train)\n",
    "    distance = np.zeros(l) \n",
    "    for i in range(l):\n",
    "        distance[i] = dist(X_train[i],X_test)\n",
    "    min_index = np.argmin(distance)\n",
    "    print(\"Predicted value is: \" + str(Y_train[min_index]))\n",
    "\n",
    "def accuracy_when_each_pixel_a_feature(X_train, X_test, Y_train, Y_test):\n",
    "    l = len(X_train)\n",
    "    number_of_errors = 0\n",
    "    distance = np.zeros(l)\n",
    "\n",
    "    for j,k in enumerate(X_test):\n",
    "        for i in range(l):\n",
    "            distance[i] = dist(X_train[i],X_test)\n",
    "            min_index = np.argmin(distance)\n",
    "        if Y_train[min_index] != Y_test[j]:\n",
    "            number_of_errors+=1\n",
    "    print(\"Accuracy: \" + str(number_of_errors/len(X_test)))\n",
    "    \n",
    "def main():\n",
    "    start_time = time.time()\n",
    "    accuracy_when_each_pixel_a_feature(X_train, X_test, Y_train, Y_test)\n",
    "    print(\"--- %s seconds ---\" % (time.time() - start_time))\n",
    "if __name__ == \"__main__\":\n",
    "    main()    "
   ]
  },
  {
   "cell_type": "code",
   "execution_count": 31,
   "id": "2f8d2d98",
   "metadata": {},
   "outputs": [
    {
     "name": "stdout",
     "output_type": "stream",
     "text": [
      "Accuracy: 0.902\n",
      "--- 1.469087839126587 seconds ---\n"
     ]
    }
   ],
   "source": [
    "# calculate average pixel value for each digit(sum every pixel out of 28*28 pixels), store it in mean_pixel_values (mean value for each digit is at corresponding value in list)\n",
    "def calculate_average_pixel_count_for_each_digit(X_train):\n",
    "    mean_pixel_values = [0] * 10\n",
    "    for i,k in enumerate(X_train):\n",
    "        sum_of_pixels=0\n",
    "        for row in k:\n",
    "            sum_of_pixels= sum_of_pixels + sum(row)\n",
    "        mean_pixel_values[Y_train[i]] = (mean_pixel_values[Y_train[i]] + sum_of_pixels/(28*28))/2\n",
    "    return mean_pixel_values\n",
    "\n",
    "#Input is number and list.  Searches closest number in the list, and returns the index\n",
    "def closest(l, number):\n",
    "    l = np.asarray(l)\n",
    "    idx = (np.abs(l - number)).argmin()\n",
    "    return idx\n",
    "\n",
    "def accuracy_when_pixel_mean_value_is_a_feature(X_avg_test, X_test, Y_test):\n",
    "    l = len(X_train)\n",
    "    number_of_errors = 0\n",
    "    distance = np.zeros(l)\n",
    "\n",
    "    for j,k in enumerate(X_test):\n",
    "        sum_of_pixels =0\n",
    "        for i,z in enumerate(k):\n",
    "            sum_of_pixels += sum(z)\n",
    "        \n",
    "        if Y_train[closest(X_avg_test, sum_of_pixels)] != Y_test[j]:\n",
    "            number_of_errors+=1\n",
    "    print(\"Accuracy: \" + str(number_of_errors/len(X_test)))\n",
    "    \n",
    "def main():\n",
    "    avg_pixels_for_each_digit = calculate_average_pixel_count_for_each_digit(X_train)\n",
    "    #print(avg_pixels_for_each_digit)\n",
    "    start_time = time.time()\n",
    "    accuracy_when_pixel_mean_value_is_a_feature(avg_pixels_for_each_digit, X_test, Y_test)\n",
    "    print(\"--- %s seconds ---\" % (time.time() - start_time))\n",
    "\n",
    "if __name__ == \"__main__\":\n",
    "    main()    "
   ]
  },
  {
   "cell_type": "code",
   "execution_count": 97,
   "id": "2a9e7fd8",
   "metadata": {},
   "outputs": [
    {
     "name": "stdout",
     "output_type": "stream",
     "text": [
      "48000\n"
     ]
    }
   ],
   "source": [
    "print(len(X_train))"
   ]
  },
  {
   "cell_type": "code",
   "execution_count": 47,
   "id": "7c174a52",
   "metadata": {},
   "outputs": [
    {
     "name": "stdout",
     "output_type": "stream",
     "text": [
      "Score: 0.9385183157378719\n",
      "--- 15.649776458740234 seconds ---\n"
     ]
    }
   ],
   "source": [
    "from sklearn import svm\n",
    "from sklearn import metrics\n",
    "from sklearn.neighbors import KNeighborsRegressor\n",
    "# Calculate using KNN from sklearn library, K =10\n",
    "X_train_KNN = []\n",
    "X_test_KNN = []\n",
    "\n",
    "for i,k in enumerate(X_train):\n",
    "    whole_array=[]\n",
    "    for z in k:\n",
    "        whole_array.extend(z)\n",
    "    X_train_KNN.append(whole_array)\n",
    "    \n",
    "for i,k in enumerate(X_test):\n",
    "    whole_array=[]\n",
    "    for z in k:\n",
    "        whole_array.extend(z)\n",
    "    X_test_KNN.append(whole_array)\n",
    "\n",
    "    \n",
    "knn_model = KNeighborsRegressor(n_neighbors=10)\n",
    "\n",
    "knn_model.fit(X_train_KNN, Y_train)\n",
    "start_time = time.time()\n",
    "accuracy = knn_model.score(X_test_KNN, Y_test)\n",
    "print(\"Score: \" + str(accuracy))\n",
    "print(\"--- %s seconds ---\" % (time.time() - start_time))"
   ]
  },
  {
   "cell_type": "code",
   "execution_count": 56,
   "id": "76da0eb2",
   "metadata": {},
   "outputs": [
    {
     "name": "stdout",
     "output_type": "stream",
     "text": [
      "[40.36074820586809, 20.137396565704215, 35.724501617210656, 34.33568640864233, 30.35645952886918, 33.53835484241394, 34.21116041530065, 28.67032333839446, 35.86021622524915, 24.172353123562456]\n",
      "[29.50194514402177, 33.6466773349383, 0, 0, 0, 0, 0, 0, 0, 0]\n"
     ]
    },
    {
     "ename": "ValueError",
     "evalue": "Expected 2D array, got 1D array instead:\narray=[40.36074821 20.13739657 35.72450162 34.33568641 30.35645953 33.53835484\n 34.21116042 28.67032334 35.86021623 24.17235312].\nReshape your data either using array.reshape(-1, 1) if your data has a single feature or array.reshape(1, -1) if it contains a single sample.",
     "output_type": "error",
     "traceback": [
      "\u001b[1;31m---------------------------------------------------------------------------\u001b[0m",
      "\u001b[1;31mValueError\u001b[0m                                Traceback (most recent call last)",
      "\u001b[1;32m<ipython-input-56-af4594e53fbf>\u001b[0m in \u001b[0;36m<module>\u001b[1;34m\u001b[0m\n\u001b[0;32m     15\u001b[0m \u001b[0mprint\u001b[0m\u001b[1;33m(\u001b[0m\u001b[0mX_test_avg\u001b[0m\u001b[1;33m)\u001b[0m\u001b[1;33m\u001b[0m\u001b[1;33m\u001b[0m\u001b[0m\n\u001b[0;32m     16\u001b[0m \u001b[0mstart_time\u001b[0m \u001b[1;33m=\u001b[0m \u001b[0mtime\u001b[0m\u001b[1;33m.\u001b[0m\u001b[0mtime\u001b[0m\u001b[1;33m(\u001b[0m\u001b[1;33m)\u001b[0m\u001b[1;33m\u001b[0m\u001b[1;33m\u001b[0m\u001b[0m\n\u001b[1;32m---> 17\u001b[1;33m \u001b[0mknn_model\u001b[0m\u001b[1;33m.\u001b[0m\u001b[0mfit\u001b[0m\u001b[1;33m(\u001b[0m\u001b[0mX_train_avg\u001b[0m\u001b[1;33m,\u001b[0m \u001b[0mY_train\u001b[0m\u001b[1;33m)\u001b[0m\u001b[1;33m\u001b[0m\u001b[1;33m\u001b[0m\u001b[0m\n\u001b[0m\u001b[0;32m     18\u001b[0m \u001b[0maccuracy\u001b[0m \u001b[1;33m=\u001b[0m \u001b[0mknn_model\u001b[0m\u001b[1;33m.\u001b[0m\u001b[0mscore\u001b[0m\u001b[1;33m(\u001b[0m\u001b[0mX_test_avg\u001b[0m\u001b[1;33m,\u001b[0m \u001b[0mY_test\u001b[0m\u001b[1;33m)\u001b[0m\u001b[1;33m\u001b[0m\u001b[1;33m\u001b[0m\u001b[0m\n\u001b[0;32m     19\u001b[0m \u001b[0mprint\u001b[0m\u001b[1;33m(\u001b[0m\u001b[1;34m\"Score: \"\u001b[0m \u001b[1;33m+\u001b[0m \u001b[0mstr\u001b[0m\u001b[1;33m(\u001b[0m\u001b[0maccuracy\u001b[0m\u001b[1;33m)\u001b[0m\u001b[1;33m)\u001b[0m\u001b[1;33m\u001b[0m\u001b[1;33m\u001b[0m\u001b[0m\n",
      "\u001b[1;32m~\\Anaconda\\lib\\site-packages\\sklearn\\neighbors\\_regression.py\u001b[0m in \u001b[0;36mfit\u001b[1;34m(self, X, y)\u001b[0m\n\u001b[0;32m    188\u001b[0m             \u001b[0mThe\u001b[0m \u001b[0mfitted\u001b[0m \u001b[0mk\u001b[0m\u001b[1;33m-\u001b[0m\u001b[0mnearest\u001b[0m \u001b[0mneighbors\u001b[0m \u001b[0mregressor\u001b[0m\u001b[1;33m.\u001b[0m\u001b[1;33m\u001b[0m\u001b[1;33m\u001b[0m\u001b[0m\n\u001b[0;32m    189\u001b[0m         \"\"\"\n\u001b[1;32m--> 190\u001b[1;33m         \u001b[1;32mreturn\u001b[0m \u001b[0mself\u001b[0m\u001b[1;33m.\u001b[0m\u001b[0m_fit\u001b[0m\u001b[1;33m(\u001b[0m\u001b[0mX\u001b[0m\u001b[1;33m,\u001b[0m \u001b[0my\u001b[0m\u001b[1;33m)\u001b[0m\u001b[1;33m\u001b[0m\u001b[1;33m\u001b[0m\u001b[0m\n\u001b[0m\u001b[0;32m    191\u001b[0m \u001b[1;33m\u001b[0m\u001b[0m\n\u001b[0;32m    192\u001b[0m     \u001b[1;32mdef\u001b[0m \u001b[0mpredict\u001b[0m\u001b[1;33m(\u001b[0m\u001b[0mself\u001b[0m\u001b[1;33m,\u001b[0m \u001b[0mX\u001b[0m\u001b[1;33m)\u001b[0m\u001b[1;33m:\u001b[0m\u001b[1;33m\u001b[0m\u001b[1;33m\u001b[0m\u001b[0m\n",
      "\u001b[1;32m~\\Anaconda\\lib\\site-packages\\sklearn\\neighbors\\_base.py\u001b[0m in \u001b[0;36m_fit\u001b[1;34m(self, X, y)\u001b[0m\n\u001b[0;32m    361\u001b[0m         \u001b[1;32mif\u001b[0m \u001b[0mself\u001b[0m\u001b[1;33m.\u001b[0m\u001b[0m_get_tags\u001b[0m\u001b[1;33m(\u001b[0m\u001b[1;33m)\u001b[0m\u001b[1;33m[\u001b[0m\u001b[1;34m\"requires_y\"\u001b[0m\u001b[1;33m]\u001b[0m\u001b[1;33m:\u001b[0m\u001b[1;33m\u001b[0m\u001b[1;33m\u001b[0m\u001b[0m\n\u001b[0;32m    362\u001b[0m             \u001b[1;32mif\u001b[0m \u001b[1;32mnot\u001b[0m \u001b[0misinstance\u001b[0m\u001b[1;33m(\u001b[0m\u001b[0mX\u001b[0m\u001b[1;33m,\u001b[0m \u001b[1;33m(\u001b[0m\u001b[0mKDTree\u001b[0m\u001b[1;33m,\u001b[0m \u001b[0mBallTree\u001b[0m\u001b[1;33m,\u001b[0m \u001b[0mNeighborsBase\u001b[0m\u001b[1;33m)\u001b[0m\u001b[1;33m)\u001b[0m\u001b[1;33m:\u001b[0m\u001b[1;33m\u001b[0m\u001b[1;33m\u001b[0m\u001b[0m\n\u001b[1;32m--> 363\u001b[1;33m                 X, y = self._validate_data(X, y, accept_sparse=\"csr\",\n\u001b[0m\u001b[0;32m    364\u001b[0m                                            multi_output=True)\n\u001b[0;32m    365\u001b[0m \u001b[1;33m\u001b[0m\u001b[0m\n",
      "\u001b[1;32m~\\Anaconda\\lib\\site-packages\\sklearn\\base.py\u001b[0m in \u001b[0;36m_validate_data\u001b[1;34m(self, X, y, reset, validate_separately, **check_params)\u001b[0m\n\u001b[0;32m    431\u001b[0m                 \u001b[0my\u001b[0m \u001b[1;33m=\u001b[0m \u001b[0mcheck_array\u001b[0m\u001b[1;33m(\u001b[0m\u001b[0my\u001b[0m\u001b[1;33m,\u001b[0m \u001b[1;33m**\u001b[0m\u001b[0mcheck_y_params\u001b[0m\u001b[1;33m)\u001b[0m\u001b[1;33m\u001b[0m\u001b[1;33m\u001b[0m\u001b[0m\n\u001b[0;32m    432\u001b[0m             \u001b[1;32melse\u001b[0m\u001b[1;33m:\u001b[0m\u001b[1;33m\u001b[0m\u001b[1;33m\u001b[0m\u001b[0m\n\u001b[1;32m--> 433\u001b[1;33m                 \u001b[0mX\u001b[0m\u001b[1;33m,\u001b[0m \u001b[0my\u001b[0m \u001b[1;33m=\u001b[0m \u001b[0mcheck_X_y\u001b[0m\u001b[1;33m(\u001b[0m\u001b[0mX\u001b[0m\u001b[1;33m,\u001b[0m \u001b[0my\u001b[0m\u001b[1;33m,\u001b[0m \u001b[1;33m**\u001b[0m\u001b[0mcheck_params\u001b[0m\u001b[1;33m)\u001b[0m\u001b[1;33m\u001b[0m\u001b[1;33m\u001b[0m\u001b[0m\n\u001b[0m\u001b[0;32m    434\u001b[0m             \u001b[0mout\u001b[0m \u001b[1;33m=\u001b[0m \u001b[0mX\u001b[0m\u001b[1;33m,\u001b[0m \u001b[0my\u001b[0m\u001b[1;33m\u001b[0m\u001b[1;33m\u001b[0m\u001b[0m\n\u001b[0;32m    435\u001b[0m \u001b[1;33m\u001b[0m\u001b[0m\n",
      "\u001b[1;32m~\\Anaconda\\lib\\site-packages\\sklearn\\utils\\validation.py\u001b[0m in \u001b[0;36minner_f\u001b[1;34m(*args, **kwargs)\u001b[0m\n\u001b[0;32m     61\u001b[0m             \u001b[0mextra_args\u001b[0m \u001b[1;33m=\u001b[0m \u001b[0mlen\u001b[0m\u001b[1;33m(\u001b[0m\u001b[0margs\u001b[0m\u001b[1;33m)\u001b[0m \u001b[1;33m-\u001b[0m \u001b[0mlen\u001b[0m\u001b[1;33m(\u001b[0m\u001b[0mall_args\u001b[0m\u001b[1;33m)\u001b[0m\u001b[1;33m\u001b[0m\u001b[1;33m\u001b[0m\u001b[0m\n\u001b[0;32m     62\u001b[0m             \u001b[1;32mif\u001b[0m \u001b[0mextra_args\u001b[0m \u001b[1;33m<=\u001b[0m \u001b[1;36m0\u001b[0m\u001b[1;33m:\u001b[0m\u001b[1;33m\u001b[0m\u001b[1;33m\u001b[0m\u001b[0m\n\u001b[1;32m---> 63\u001b[1;33m                 \u001b[1;32mreturn\u001b[0m \u001b[0mf\u001b[0m\u001b[1;33m(\u001b[0m\u001b[1;33m*\u001b[0m\u001b[0margs\u001b[0m\u001b[1;33m,\u001b[0m \u001b[1;33m**\u001b[0m\u001b[0mkwargs\u001b[0m\u001b[1;33m)\u001b[0m\u001b[1;33m\u001b[0m\u001b[1;33m\u001b[0m\u001b[0m\n\u001b[0m\u001b[0;32m     64\u001b[0m \u001b[1;33m\u001b[0m\u001b[0m\n\u001b[0;32m     65\u001b[0m             \u001b[1;31m# extra_args > 0\u001b[0m\u001b[1;33m\u001b[0m\u001b[1;33m\u001b[0m\u001b[1;33m\u001b[0m\u001b[0m\n",
      "\u001b[1;32m~\\Anaconda\\lib\\site-packages\\sklearn\\utils\\validation.py\u001b[0m in \u001b[0;36mcheck_X_y\u001b[1;34m(X, y, accept_sparse, accept_large_sparse, dtype, order, copy, force_all_finite, ensure_2d, allow_nd, multi_output, ensure_min_samples, ensure_min_features, y_numeric, estimator)\u001b[0m\n\u001b[0;32m    812\u001b[0m         \u001b[1;32mraise\u001b[0m \u001b[0mValueError\u001b[0m\u001b[1;33m(\u001b[0m\u001b[1;34m\"y cannot be None\"\u001b[0m\u001b[1;33m)\u001b[0m\u001b[1;33m\u001b[0m\u001b[1;33m\u001b[0m\u001b[0m\n\u001b[0;32m    813\u001b[0m \u001b[1;33m\u001b[0m\u001b[0m\n\u001b[1;32m--> 814\u001b[1;33m     X = check_array(X, accept_sparse=accept_sparse,\n\u001b[0m\u001b[0;32m    815\u001b[0m                     \u001b[0maccept_large_sparse\u001b[0m\u001b[1;33m=\u001b[0m\u001b[0maccept_large_sparse\u001b[0m\u001b[1;33m,\u001b[0m\u001b[1;33m\u001b[0m\u001b[1;33m\u001b[0m\u001b[0m\n\u001b[0;32m    816\u001b[0m                     \u001b[0mdtype\u001b[0m\u001b[1;33m=\u001b[0m\u001b[0mdtype\u001b[0m\u001b[1;33m,\u001b[0m \u001b[0morder\u001b[0m\u001b[1;33m=\u001b[0m\u001b[0morder\u001b[0m\u001b[1;33m,\u001b[0m \u001b[0mcopy\u001b[0m\u001b[1;33m=\u001b[0m\u001b[0mcopy\u001b[0m\u001b[1;33m,\u001b[0m\u001b[1;33m\u001b[0m\u001b[1;33m\u001b[0m\u001b[0m\n",
      "\u001b[1;32m~\\Anaconda\\lib\\site-packages\\sklearn\\utils\\validation.py\u001b[0m in \u001b[0;36minner_f\u001b[1;34m(*args, **kwargs)\u001b[0m\n\u001b[0;32m     61\u001b[0m             \u001b[0mextra_args\u001b[0m \u001b[1;33m=\u001b[0m \u001b[0mlen\u001b[0m\u001b[1;33m(\u001b[0m\u001b[0margs\u001b[0m\u001b[1;33m)\u001b[0m \u001b[1;33m-\u001b[0m \u001b[0mlen\u001b[0m\u001b[1;33m(\u001b[0m\u001b[0mall_args\u001b[0m\u001b[1;33m)\u001b[0m\u001b[1;33m\u001b[0m\u001b[1;33m\u001b[0m\u001b[0m\n\u001b[0;32m     62\u001b[0m             \u001b[1;32mif\u001b[0m \u001b[0mextra_args\u001b[0m \u001b[1;33m<=\u001b[0m \u001b[1;36m0\u001b[0m\u001b[1;33m:\u001b[0m\u001b[1;33m\u001b[0m\u001b[1;33m\u001b[0m\u001b[0m\n\u001b[1;32m---> 63\u001b[1;33m                 \u001b[1;32mreturn\u001b[0m \u001b[0mf\u001b[0m\u001b[1;33m(\u001b[0m\u001b[1;33m*\u001b[0m\u001b[0margs\u001b[0m\u001b[1;33m,\u001b[0m \u001b[1;33m**\u001b[0m\u001b[0mkwargs\u001b[0m\u001b[1;33m)\u001b[0m\u001b[1;33m\u001b[0m\u001b[1;33m\u001b[0m\u001b[0m\n\u001b[0m\u001b[0;32m     64\u001b[0m \u001b[1;33m\u001b[0m\u001b[0m\n\u001b[0;32m     65\u001b[0m             \u001b[1;31m# extra_args > 0\u001b[0m\u001b[1;33m\u001b[0m\u001b[1;33m\u001b[0m\u001b[1;33m\u001b[0m\u001b[0m\n",
      "\u001b[1;32m~\\Anaconda\\lib\\site-packages\\sklearn\\utils\\validation.py\u001b[0m in \u001b[0;36mcheck_array\u001b[1;34m(array, accept_sparse, accept_large_sparse, dtype, order, copy, force_all_finite, ensure_2d, allow_nd, ensure_min_samples, ensure_min_features, estimator)\u001b[0m\n\u001b[0;32m    635\u001b[0m             \u001b[1;31m# If input is 1D raise error\u001b[0m\u001b[1;33m\u001b[0m\u001b[1;33m\u001b[0m\u001b[1;33m\u001b[0m\u001b[0m\n\u001b[0;32m    636\u001b[0m             \u001b[1;32mif\u001b[0m \u001b[0marray\u001b[0m\u001b[1;33m.\u001b[0m\u001b[0mndim\u001b[0m \u001b[1;33m==\u001b[0m \u001b[1;36m1\u001b[0m\u001b[1;33m:\u001b[0m\u001b[1;33m\u001b[0m\u001b[1;33m\u001b[0m\u001b[0m\n\u001b[1;32m--> 637\u001b[1;33m                 raise ValueError(\n\u001b[0m\u001b[0;32m    638\u001b[0m                     \u001b[1;34m\"Expected 2D array, got 1D array instead:\\narray={}.\\n\"\u001b[0m\u001b[1;33m\u001b[0m\u001b[1;33m\u001b[0m\u001b[0m\n\u001b[0;32m    639\u001b[0m                     \u001b[1;34m\"Reshape your data either using array.reshape(-1, 1) if \"\u001b[0m\u001b[1;33m\u001b[0m\u001b[1;33m\u001b[0m\u001b[0m\n",
      "\u001b[1;31mValueError\u001b[0m: Expected 2D array, got 1D array instead:\narray=[40.36074821 20.13739657 35.72450162 34.33568641 30.35645953 33.53835484\n 34.21116042 28.67032334 35.86021623 24.17235312].\nReshape your data either using array.reshape(-1, 1) if your data has a single feature or array.reshape(1, -1) if it contains a single sample."
     ]
    }
   ],
   "source": [
    "#Calculate accuracy using average pixel value\n",
    "def calculate_average_pixel_count_for_each_digit(X_train):\n",
    "    mean_pixel_values = [0] * 10\n",
    "    for i,k in enumerate(X_train):\n",
    "        sum_of_pixels=0\n",
    "        for row in k:\n",
    "            sum_of_pixels= sum_of_pixels + row\n",
    "        mean_pixel_values[Y_train[i]] = (mean_pixel_values[Y_train[i]] + sum_of_pixels/(28*28))/2\n",
    "    return mean_pixel_values\n",
    "\n",
    "knn_model = KNeighborsRegressor(n_neighbors=10)\n",
    "X_train_avg = calculate_average_pixel_count_for_each_digit(X_train_KNN)\n",
    "X_test_avg = calculate_average_pixel_count_for_each_digit(X_test_KNN)\n",
    "print(X_train_avg)\n",
    "print(X_test_avg)\n",
    "start_time = time.time()\n",
    "knn_model.fit(X_train_avg, Y_train)\n",
    "accuracy = knn_model.score(X_test_avg, Y_test)\n",
    "print(\"Score: \" + str(accuracy))\n",
    "print(\"--- %s seconds ---\" % (time.time() - start_time))"
   ]
  },
  {
   "cell_type": "code",
   "execution_count": 48,
   "id": "f4a2afdf",
   "metadata": {},
   "outputs": [],
   "source": [
    "#Import Grayscale Pixel Values as Features and store in in list features_grayscale_pixel_values\n",
    "features_grayscale_pixel_values = []\n",
    "for i,k in enumerate(image_list_train):\n",
    "    features_grayscale_pixel_values.append(np.reshape(k, 28*28))\n"
   ]
  },
  {
   "cell_type": "code",
   "execution_count": 49,
   "id": "b9a0f3ae",
   "metadata": {},
   "outputs": [],
   "source": [
    "# store new features - horizontal and vertical edges calculated using prewitt kernel\n",
    "features_edge_horizontal = []\n",
    "features_edge_vertical = []"
   ]
  },
  {
   "cell_type": "code",
   "execution_count": 50,
   "id": "8c53a406",
   "metadata": {},
   "outputs": [],
   "source": [
    "#calculating horizontal and vertical edges using prewitt kernel\n",
    "from skimage.filters import prewitt_h,prewitt_v\n",
    "import matplotlib.pyplot as plt\n",
    "%matplotlib inline\n",
    "\n",
    "def calculate_prewitt(data):\n",
    "    features_edge_horizontal = []\n",
    "    features_edge_vertical = []\n",
    "    for image in data:\n",
    "        edges_prewitt_horizontal = prewitt_h(image)\n",
    "        edges_prewitt_vertical = prewitt_v(image)\n",
    "        features_edge_horizontal.append(edges_prewitt_horizontal)\n",
    "        features_edge_vertical.append(edges_prewitt_vertical)\n",
    "    return features_edge_horizontal, features_edge_vertical\n"
   ]
  },
  {
   "cell_type": "code",
   "execution_count": 51,
   "id": "ca19683f",
   "metadata": {},
   "outputs": [],
   "source": [
    "features_edge_horizontal, features_edge_vertical = calculate_prewitt(image_list_train)"
   ]
  },
  {
   "cell_type": "code",
   "execution_count": 52,
   "id": "ceefe2c2",
   "metadata": {
    "scrolled": true
   },
   "outputs": [
    {
     "data": {
      "text/plain": [
       "<matplotlib.image.AxesImage at 0x24567dd6100>"
      ]
     },
     "execution_count": 52,
     "metadata": {},
     "output_type": "execute_result"
    },
    {
     "data": {
      "image/png": "[encoded data removed]",
      "text/plain": [
       "<Figure size 432x288 with 2 Axes>"
      ]
     },
     "metadata": {
      "needs_background": "light"
     },
     "output_type": "display_data"
    }
   ],
   "source": [
    "imshow(features_edge_horizontal[0], cmap='gray')"
   ]
  },
  {
   "cell_type": "code",
   "execution_count": 53,
   "id": "7e09bb90",
   "metadata": {},
   "outputs": [
    {
     "data": {
      "text/plain": [
       "<matplotlib.image.AxesImage at 0x24567e8c310>"
      ]
     },
     "execution_count": 53,
     "metadata": {},
     "output_type": "execute_result"
    },
    {
     "data": {
      "image/png": "[encoded data removed]",
      "text/plain": [
       "<Figure size 432x288 with 2 Axes>"
      ]
     },
     "metadata": {
      "needs_background": "light"
     },
     "output_type": "display_data"
    }
   ],
   "source": [
    "imshow(features_edge_vertical[0], cmap='gray')"
   ]
  },
  {
   "cell_type": "code",
   "execution_count": 54,
   "id": "a12c85c5",
   "metadata": {},
   "outputs": [
    {
     "ename": "KeyboardInterrupt",
     "evalue": "",
     "output_type": "error",
     "traceback": [
      "\u001b[1;31m---------------------------------------------------------------------------\u001b[0m",
      "\u001b[1;31mKeyboardInterrupt\u001b[0m                         Traceback (most recent call last)",
      "\u001b[1;32m<ipython-input-54-c6948b2e9139>\u001b[0m in \u001b[0;36m<module>\u001b[1;34m\u001b[0m\n\u001b[0;32m      9\u001b[0m \u001b[1;32mfor\u001b[0m \u001b[0mimage\u001b[0m \u001b[1;32min\u001b[0m \u001b[0mimage_list_train\u001b[0m\u001b[1;33m:\u001b[0m\u001b[1;33m\u001b[0m\u001b[1;33m\u001b[0m\u001b[0m\n\u001b[0;32m     10\u001b[0m \u001b[1;31m#generating HOG features\u001b[0m\u001b[1;33m\u001b[0m\u001b[1;33m\u001b[0m\u001b[1;33m\u001b[0m\u001b[0m\n\u001b[1;32m---> 11\u001b[1;33m     \u001b[0mfd\u001b[0m\u001b[1;33m,\u001b[0m \u001b[0mhog_image\u001b[0m \u001b[1;33m=\u001b[0m \u001b[0mhog\u001b[0m\u001b[1;33m(\u001b[0m\u001b[0mimage\u001b[0m\u001b[1;33m,\u001b[0m \u001b[0morientations\u001b[0m\u001b[1;33m=\u001b[0m\u001b[1;36m9\u001b[0m\u001b[1;33m,\u001b[0m \u001b[0mpixels_per_cell\u001b[0m\u001b[1;33m=\u001b[0m\u001b[1;33m(\u001b[0m\u001b[1;36m4\u001b[0m\u001b[1;33m,\u001b[0m \u001b[1;36m4\u001b[0m\u001b[1;33m)\u001b[0m\u001b[1;33m,\u001b[0m \u001b[0mcells_per_block\u001b[0m\u001b[1;33m=\u001b[0m\u001b[1;33m(\u001b[0m\u001b[1;36m3\u001b[0m\u001b[1;33m,\u001b[0m \u001b[1;36m3\u001b[0m\u001b[1;33m)\u001b[0m\u001b[1;33m,\u001b[0m \u001b[0mvisualize\u001b[0m\u001b[1;33m=\u001b[0m\u001b[1;32mTrue\u001b[0m\u001b[1;33m,\u001b[0m \u001b[0mmultichannel\u001b[0m\u001b[1;33m=\u001b[0m\u001b[1;32mFalse\u001b[0m\u001b[1;33m)\u001b[0m\u001b[1;33m\u001b[0m\u001b[1;33m\u001b[0m\u001b[0m\n\u001b[0m\u001b[0;32m     12\u001b[0m     \u001b[0mhog_images\u001b[0m\u001b[1;33m.\u001b[0m\u001b[0mappend\u001b[0m\u001b[1;33m(\u001b[0m\u001b[0mhog_image\u001b[0m\u001b[1;33m)\u001b[0m\u001b[1;33m\u001b[0m\u001b[1;33m\u001b[0m\u001b[0m\n",
      "\u001b[1;32m~\\Anaconda\\lib\\site-packages\\skimage\\feature\\_hog.py\u001b[0m in \u001b[0;36mhog\u001b[1;34m(image, orientations, pixels_per_cell, cells_per_block, block_norm, visualize, transform_sqrt, feature_vector, multichannel)\u001b[0m\n\u001b[0;32m    249\u001b[0m                     centre = tuple([r * c_row + c_row // 2,\n\u001b[0;32m    250\u001b[0m                                     c * c_col + c_col // 2])\n\u001b[1;32m--> 251\u001b[1;33m                     rr, cc = draw.line(int(centre[0] - dc),\n\u001b[0m\u001b[0;32m    252\u001b[0m                                        \u001b[0mint\u001b[0m\u001b[1;33m(\u001b[0m\u001b[0mcentre\u001b[0m\u001b[1;33m[\u001b[0m\u001b[1;36m1\u001b[0m\u001b[1;33m]\u001b[0m \u001b[1;33m+\u001b[0m \u001b[0mdr\u001b[0m\u001b[1;33m)\u001b[0m\u001b[1;33m,\u001b[0m\u001b[1;33m\u001b[0m\u001b[1;33m\u001b[0m\u001b[0m\n\u001b[0;32m    253\u001b[0m                                        \u001b[0mint\u001b[0m\u001b[1;33m(\u001b[0m\u001b[0mcentre\u001b[0m\u001b[1;33m[\u001b[0m\u001b[1;36m0\u001b[0m\u001b[1;33m]\u001b[0m \u001b[1;33m+\u001b[0m \u001b[0mdc\u001b[0m\u001b[1;33m)\u001b[0m\u001b[1;33m,\u001b[0m\u001b[1;33m\u001b[0m\u001b[1;33m\u001b[0m\u001b[0m\n",
      "\u001b[1;32m~\\Anaconda\\lib\\site-packages\\skimage\\draw\\draw.py\u001b[0m in \u001b[0;36mline\u001b[1;34m(r0, c0, r1, c1)\u001b[0m\n\u001b[0;32m    408\u001b[0m            [0, 0, 0, 0, 0, 0, 0, 0, 0, 0]], dtype=uint8)\n\u001b[0;32m    409\u001b[0m     \"\"\"\n\u001b[1;32m--> 410\u001b[1;33m     \u001b[1;32mreturn\u001b[0m \u001b[0m_line\u001b[0m\u001b[1;33m(\u001b[0m\u001b[0mr0\u001b[0m\u001b[1;33m,\u001b[0m \u001b[0mc0\u001b[0m\u001b[1;33m,\u001b[0m \u001b[0mr1\u001b[0m\u001b[1;33m,\u001b[0m \u001b[0mc1\u001b[0m\u001b[1;33m)\u001b[0m\u001b[1;33m\u001b[0m\u001b[1;33m\u001b[0m\u001b[0m\n\u001b[0m\u001b[0;32m    411\u001b[0m \u001b[1;33m\u001b[0m\u001b[0m\n\u001b[0;32m    412\u001b[0m \u001b[1;33m\u001b[0m\u001b[0m\n",
      "\u001b[1;32mskimage\\draw\\_draw.pyx\u001b[0m in \u001b[0;36mskimage.draw._draw._line\u001b[1;34m()\u001b[0m\n",
      "\u001b[1;32m~\\Anaconda\\lib\\site-packages\\numpy\\core\\_asarray.py\u001b[0m in \u001b[0;36masarray\u001b[1;34m(a, dtype, order, like)\u001b[0m\n\u001b[0;32m     21\u001b[0m \u001b[1;33m\u001b[0m\u001b[0m\n\u001b[0;32m     22\u001b[0m \u001b[1;33m\u001b[0m\u001b[0m\n\u001b[1;32m---> 23\u001b[1;33m \u001b[1;33m@\u001b[0m\u001b[0mset_array_function_like_doc\u001b[0m\u001b[1;33m\u001b[0m\u001b[1;33m\u001b[0m\u001b[0m\n\u001b[0m\u001b[0;32m     24\u001b[0m \u001b[1;33m@\u001b[0m\u001b[0mset_module\u001b[0m\u001b[1;33m(\u001b[0m\u001b[1;34m'numpy'\u001b[0m\u001b[1;33m)\u001b[0m\u001b[1;33m\u001b[0m\u001b[1;33m\u001b[0m\u001b[0m\n\u001b[0;32m     25\u001b[0m \u001b[1;32mdef\u001b[0m \u001b[0masarray\u001b[0m\u001b[1;33m(\u001b[0m\u001b[0ma\u001b[0m\u001b[1;33m,\u001b[0m \u001b[0mdtype\u001b[0m\u001b[1;33m=\u001b[0m\u001b[1;32mNone\u001b[0m\u001b[1;33m,\u001b[0m \u001b[0morder\u001b[0m\u001b[1;33m=\u001b[0m\u001b[1;32mNone\u001b[0m\u001b[1;33m,\u001b[0m \u001b[1;33m*\u001b[0m\u001b[1;33m,\u001b[0m \u001b[0mlike\u001b[0m\u001b[1;33m=\u001b[0m\u001b[1;32mNone\u001b[0m\u001b[1;33m)\u001b[0m\u001b[1;33m:\u001b[0m\u001b[1;33m\u001b[0m\u001b[1;33m\u001b[0m\u001b[0m\n",
      "\u001b[1;31mKeyboardInterrupt\u001b[0m: "
     ]
    }
   ],
   "source": [
    "#Calculate Histogram of Oriented Gradients as a new feature\n",
    "from skimage.transform import resize\n",
    "from skimage.feature import hog\n",
    "from skimage import exposure\n",
    "import matplotlib.pyplot as plt\n",
    "\n",
    "features_hog = []\n",
    "hog_images = []\n",
    "for image in image_list_train:\n",
    "#generating HOG features\n",
    "    fd, hog_image = hog(image, orientations=9, pixels_per_cell=(4, 4), cells_per_block=(3, 3), visualize=True, multichannel=False)\n",
    "    hog_images.append(hog_image)\n"
   ]
  },
  {
   "cell_type": "code",
   "execution_count": null,
   "id": "efa98b9f",
   "metadata": {},
   "outputs": [],
   "source": [
    "dir = os.getcwd()\n",
    "image_list_val = []\n",
    "labels_val = []\n",
    "for i in range(10):\n",
    "        for filename in glob.glob(dir + '/val/'+ str(i) + '/*.png'):\n",
    "            im=Image.open(filename)\n",
    "            data = np.asarray(im)\n",
    "            image_list_val.append(data)\n",
    "            labels_val.append(i)\n",
    "            \n",
    "features_edge_horizontal_val, features_edge_vertical_val = calculate_prewitt(image_list_val)"
   ]
  },
  {
   "cell_type": "code",
   "execution_count": null,
   "id": "86ab06a5",
   "metadata": {},
   "outputs": [],
   "source": [
    "\n",
    "hog_image_rescaled = exposure.rescale_intensity(hog_images[10002], in_range=(0, 10)) \n",
    "imshow(hog_image_rescaled, cmap=plt.cm.gray) "
   ]
  },
  {
   "cell_type": "code",
   "execution_count": null,
   "id": "5ad4e874",
   "metadata": {},
   "outputs": [],
   "source": [
    "data_tuples_train = list(zip(features_edge_vertical,features_edge_horizontal, labels_train))\n",
    "df_train = pd.DataFrame(data_tuples_train, columns=['features_edge_vertical','features_edge_horizontal', 'label'])\n",
    "    "
   ]
  },
  {
   "cell_type": "code",
   "execution_count": null,
   "id": "5f5dc54a",
   "metadata": {},
   "outputs": [],
   "source": [
    "data_tuples_val = list(zip(features_edge_vertical_val,features_edge_horizontal_val, labels_val))\n",
    "df_val = pd.DataFrame(data_tuples_val, columns=['features_edge_vertical','features_edge_horizontal', 'label'])"
   ]
  },
  {
   "cell_type": "code",
   "execution_count": null,
   "id": "470cea47",
   "metadata": {},
   "outputs": [],
   "source": [
    "mean_values = df_train.groupby(\"label\")['features_edge_vertical'].apply(np.mean)\n",
    "mean_values[\"size\"] =mean_values.apply(np.linalg.norm)\n",
    "print(mean_values[\"size\"])"
   ]
  },
  {
   "cell_type": "code",
   "execution_count": null,
   "id": "e708bb26",
   "metadata": {},
   "outputs": [],
   "source": []
  },
  {
   "cell_type": "code",
   "execution_count": null,
   "id": "1496713c",
   "metadata": {},
   "outputs": [],
   "source": [
    "from sklearn import svm\n",
    "from sklearn import metrics\n",
    "training_feature_edge_horizontal = []\n",
    "for i,k in enumerate(features_edge_horizontal):\n",
    "    training_feature_edge_horizontal.append(np.reshape(k, 28*28))\n",
    "clf = svm.SVC(kernel='rbf')\n",
    "clf.fit(features_grayscale_pixel_values, labels_train)\n",
    "#y_pred = clf.predict(df_val)"
   ]
  },
  {
   "cell_type": "code",
   "execution_count": null,
   "id": "d6f50f3b",
   "metadata": {},
   "outputs": [],
   "source": [
    "y_pred = clf.predict(df_val)"
   ]
  },
  {
   "cell_type": "code",
   "execution_count": null,
   "id": "4f2f12be",
   "metadata": {},
   "outputs": [],
   "source": [
    "try:\n",
    "        #for dirname, _, filenames in os.walk(dir):\n",
    "            #for filename in filenames:\n",
    "                #print(os.path.join(dirname, filename))\n",
    "    image_list_train = []\n",
    "    labels_train = []\n",
    "    for i in range(10):\n",
    "            print(i)\n",
    "            for filename in glob.glob(dir + '/train/'+ str(i) + '/*.png'): #assuming gif\n",
    "                im=Image.open(filename)\n",
    "                data = np.asarray(im)\n",
    "                image_list.append(im)\n",
    "                labels.append(i)\n",
    "                \n",
    "    except Exception as e:\n",
    "        print(e)\n",
    "\n",
    "if __name__ == \"__main__\":\n",
    "    main()    "
   ]
  }
 ],
 "metadata": {
  "kernelspec": {
   "display_name": "Python 3",
   "language": "python",
   "name": "python3"
  },
  "language_info": {
   "codemirror_mode": {
    "name": "ipython",
    "version": 3
   },
   "file_extension": ".py",
   "mimetype": "text/x-python",
   "name": "python",
   "nbconvert_exporter": "python",
   "pygments_lexer": "ipython3",
   "version": "3.8.8"
  }
 },
 "nbformat": 4,
 "nbformat_minor": 5
}
